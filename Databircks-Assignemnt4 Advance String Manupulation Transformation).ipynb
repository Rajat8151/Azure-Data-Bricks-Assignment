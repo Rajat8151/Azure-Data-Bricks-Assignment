{
 "cells": [
  {
   "cell_type": "markdown",
   "metadata": {
    "application/vnd.databricks.v1+cell": {
     "cellMetadata": {},
     "inputWidgets": {},
     "nuid": "56c5b381-2cb2-4701-a84d-63ff0cac11fe",
     "showTitle": false,
     "title": ""
    }
   },
   "source": [
    "<span style=\"color:orange\">\n",
    " <h2> Databircks-Assignemnt 4: Advance String Manupulation Transformation)\n",
    "</span>\n",
    "  <h5>\n",
    "    <span style=\"color:red\">\n",
    "<b>Author: Deepak Goyal <br>\n",
    "   <a> adeus.azurelib.com </a><br>\n",
    "   Email at: admin@azurelib.com\n",
    "</span>"
   ]
  },
  {
   "cell_type": "code",
   "execution_count": 1,
   "metadata": {},
   "outputs": [],
   "source": [
    "# Importing all the required data\n",
    "import pyspark\n",
    "from pyspark.sql import SparkSession\n",
    "spark=SparkSession.builder.appName('Practise').getOrCreate()\n",
    "\n",
    "from pyspark.sql.functions import *"
   ]
  },
  {
   "cell_type": "code",
   "execution_count": 2,
   "metadata": {},
   "outputs": [],
   "source": [
    "# Read the dataset\n",
    "df= spark.read.csv(\"EmployeeData-4.csv\",header=True,inferSchema=True)"
   ]
  },
  {
   "cell_type": "code",
   "execution_count": 3,
   "metadata": {},
   "outputs": [
    {
     "name": "stdout",
     "output_type": "stream",
     "text": [
      "+---+----------+---------+--------------------+------+------+-------------------+--------+\n",
      "| id|first_name|last_name|               email|gender|salary|       creationDate|   bonus|\n",
      "+---+----------+---------+--------------------+------+------+-------------------+--------+\n",
      "|  1|    Valene|   Ingley|vingley0@livejour...|Female| 44104|1957-09-09 16:44:40|    NULL|\n",
      "|  2|  Lynnelle|    Hurll| lhurll1@answers.com|Female|112411|1907-05-10 17:38:56|    NULL|\n",
      "|  3|   Miranda|    Train|   mtrain2@imgur.com|Female| 91073|1941-01-24 16:05:23|12875.54|\n",
      "|  4|    Dulsea|     Foss|dfoss3@dagondesig...|Female|193291|1942-05-09 20:59:39|    NULL|\n",
      "|  5|    Anatol|  Dunklee| adunklee4@google.de|  Male| 22175|1950-07-26 16:28:00| 1432.12|\n",
      "+---+----------+---------+--------------------+------+------+-------------------+--------+\n",
      "only showing top 5 rows\n",
      "\n"
     ]
    }
   ],
   "source": [
    "df.show(5)"
   ]
  },
  {
   "cell_type": "markdown",
   "metadata": {
    "application/vnd.databricks.v1+cell": {
     "cellMetadata": {},
     "inputWidgets": {},
     "nuid": "01541cf5-29d4-4dbe-a0a2-9666393c4171",
     "showTitle": false,
     "title": ""
    }
   },
   "source": [
    "<b> What is the abbreviated version of each employee's last name, with the first letter and the two following letters included?"
   ]
  },
  {
   "cell_type": "code",
   "execution_count": 4,
   "metadata": {
    "application/vnd.databricks.v1+cell": {
     "cellMetadata": {},
     "inputWidgets": {},
     "nuid": "83f0e040-3b07-4e4d-842b-6eedba9aa448",
     "showTitle": false,
     "title": ""
    }
   },
   "outputs": [
    {
     "name": "stdout",
     "output_type": "stream",
     "text": [
      "+---------+--------+\n",
      "|last_name|Abb_Name|\n",
      "+---------+--------+\n",
      "|   Ingley|     Ing|\n",
      "|    Hurll|     Hur|\n",
      "|    Train|     Tra|\n",
      "|     Foss|     Fos|\n",
      "|  Dunklee|     Dun|\n",
      "+---------+--------+\n",
      "only showing top 5 rows\n",
      "\n"
     ]
    }
   ],
   "source": [
    "# Write your code using the Spark Function\n",
    "df1 = df.select(df.last_name)\n",
    "df1 = df1.withColumn('Abb_Name',substring(df1.last_name,1,3))\n",
    "df1.show(5)"
   ]
  },
  {
   "cell_type": "markdown",
   "metadata": {
    "application/vnd.databricks.v1+cell": {
     "cellMetadata": {},
     "inputWidgets": {},
     "nuid": "7596956d-789a-43c8-b3e7-470db0f35fca",
     "showTitle": false,
     "title": ""
    }
   },
   "source": [
    "d\n",
    "<b> What is the domain name of each employee's email address, so that their emails can be filtered and routed to the correct department?"
   ]
  },
  {
   "cell_type": "code",
   "execution_count": 5,
   "metadata": {
    "application/vnd.databricks.v1+cell": {
     "cellMetadata": {},
     "inputWidgets": {},
     "nuid": "b2bc2ab9-4479-4ed0-a510-b0ec1455a9a8",
     "showTitle": false,
     "title": ""
    }
   },
   "outputs": [
    {
     "name": "stdout",
     "output_type": "stream",
     "text": [
      "+--------------------+---------------+\n",
      "|               email|    Domain_Name|\n",
      "+--------------------+---------------+\n",
      "|vingley0@livejour...|livejournal.com|\n",
      "| lhurll1@answers.com|    answers.com|\n",
      "|   mtrain2@imgur.com|      imgur.com|\n",
      "|dfoss3@dagondesig...|dagondesign.com|\n",
      "| adunklee4@google.de|      google.de|\n",
      "+--------------------+---------------+\n",
      "only showing top 5 rows\n",
      "\n"
     ]
    }
   ],
   "source": [
    "# Write your code using the Spark Function\n",
    "df2 = df.withColumn('Domain_Name',split(df.email,'@').getItem(1))\n",
    "df2 = df2.select(col('email'),col('Domain_Name'))\n",
    "df2.show(5)"
   ]
  },
  {
   "cell_type": "markdown",
   "metadata": {
    "application/vnd.databricks.v1+cell": {
     "cellMetadata": {},
     "inputWidgets": {},
     "nuid": "fdb6949e-fbda-47a0-b9e3-9b5aa8e5788b",
     "showTitle": false,
     "title": ""
    }
   },
   "source": [
    "d\n",
    "<b> In an effort to protect their privacy, what is each employee's name spelled backwards?"
   ]
  },
  {
   "cell_type": "code",
   "execution_count": 6,
   "metadata": {
    "application/vnd.databricks.v1+cell": {
     "cellMetadata": {},
     "inputWidgets": {},
     "nuid": "d8172873-7db2-4382-850c-569ba2491ad2",
     "showTitle": false,
     "title": ""
    }
   },
   "outputs": [
    {
     "name": "stdout",
     "output_type": "stream",
     "text": [
      "+--------------+--------------+\n",
      "|  Combine_Name|  reverse_name|\n",
      "+--------------+--------------+\n",
      "| Valene Ingley| yelgnI enelaV|\n",
      "|Lynnelle Hurll|llruH ellennyL|\n",
      "| Miranda Train| niarT adnariM|\n",
      "|   Dulsea Foss|   ssoF aesluD|\n",
      "|Anatol Dunklee|eelknuD lotanA|\n",
      "+--------------+--------------+\n",
      "only showing top 5 rows\n",
      "\n"
     ]
    }
   ],
   "source": [
    "# Write your code using the Spark Function\n",
    "df3 = df.withColumn('Combine_Name',concat(df.first_name,lit(' '),df.last_name))\n",
    "df3 = df3.select(df3.Combine_Name)\n",
    "df3 = df3.withColumn('reverse_name',reverse(df3.Combine_Name))\n",
    "df3.show(5)"
   ]
  },
  {
   "cell_type": "markdown",
   "metadata": {
    "application/vnd.databricks.v1+cell": {
     "cellMetadata": {},
     "inputWidgets": {},
     "nuid": "5a7155e5-4aa6-4e30-b244-fc6ad8d3fed8",
     "showTitle": false,
     "title": ""
    }
   },
   "source": [
    "d\n",
    "<b> In order to make their email addresses harder to guess, what is each employee's email address spelled backwards?"
   ]
  },
  {
   "cell_type": "code",
   "execution_count": 7,
   "metadata": {
    "application/vnd.databricks.v1+cell": {
     "cellMetadata": {},
     "inputWidgets": {},
     "nuid": "b10ce1ed-e48d-493d-8148-63acadce18e6",
     "showTitle": false,
     "title": ""
    }
   },
   "outputs": [
    {
     "name": "stdout",
     "output_type": "stream",
     "text": [
      "+--------------------+--------------------+\n",
      "|               email|       reverse_email|\n",
      "+--------------------+--------------------+\n",
      "|vingley0@livejour...|moc.lanruojevil@0...|\n",
      "| lhurll1@answers.com| moc.srewsna@1llruhl|\n",
      "|   mtrain2@imgur.com|   moc.rugmi@2niartm|\n",
      "|dfoss3@dagondesig...|moc.ngisednogad@3...|\n",
      "| adunklee4@google.de| ed.elgoog@4eelknuda|\n",
      "+--------------------+--------------------+\n",
      "only showing top 5 rows\n",
      "\n"
     ]
    }
   ],
   "source": [
    "# Write your code using the Spark Function\n",
    "df4 = df.withColumn('reverse_email',reverse(df.email))\n",
    "df4 = df4.select(df4.email,df4.reverse_email)\n",
    "df4.show(5)"
   ]
  },
  {
   "cell_type": "markdown",
   "metadata": {
    "application/vnd.databricks.v1+cell": {
     "cellMetadata": {},
     "inputWidgets": {},
     "nuid": "15178c86-7b61-4b25-a42e-850363b01dd6",
     "showTitle": false,
     "title": ""
    }
   },
   "source": [
    "d\n",
    "<b> What is each employee's first name, repeated twice, to improve personalization of emails and messages?"
   ]
  },
  {
   "cell_type": "code",
   "execution_count": 8,
   "metadata": {
    "application/vnd.databricks.v1+cell": {
     "cellMetadata": {},
     "inputWidgets": {},
     "nuid": "c8fd7215-3afd-4fd9-9c43-51ca81c25aa2",
     "showTitle": false,
     "title": ""
    }
   },
   "outputs": [
    {
     "name": "stdout",
     "output_type": "stream",
     "text": [
      "+----------+----------------+\n",
      "|first_name|   repeated_name|\n",
      "+----------+----------------+\n",
      "|    Valene|    ValeneValene|\n",
      "|  Lynnelle|LynnelleLynnelle|\n",
      "|   Miranda|  MirandaMiranda|\n",
      "|    Dulsea|    DulseaDulsea|\n",
      "|    Anatol|    AnatolAnatol|\n",
      "+----------+----------------+\n",
      "only showing top 5 rows\n",
      "\n"
     ]
    }
   ],
   "source": [
    "# Write your code using the Spark Function\n",
    "df5 = df.select(df.first_name)\n",
    "df5 = df5.withColumn('repeated_name',concat(df5.first_name,df5.first_name))\n",
    "df5.show(5)"
   ]
  },
  {
   "cell_type": "markdown",
   "metadata": {
    "application/vnd.databricks.v1+cell": {
     "cellMetadata": {},
     "inputWidgets": {},
     "nuid": "ca3eba0e-0df9-42b8-bc99-39867c2a7e82",
     "showTitle": false,
     "title": ""
    }
   },
   "source": [
    "d\n",
    "<b> What is the country code of each employee's email domain, which can help identify global market opportunities?"
   ]
  },
  {
   "cell_type": "code",
   "execution_count": 9,
   "metadata": {
    "application/vnd.databricks.v1+cell": {
     "cellMetadata": {},
     "inputWidgets": {},
     "nuid": "0b3a65e9-58dc-43a4-b926-31bae3f440b4",
     "showTitle": false,
     "title": ""
    }
   },
   "outputs": [
    {
     "name": "stdout",
     "output_type": "stream",
     "text": [
      "+--------------------+----+\n",
      "|               email|code|\n",
      "+--------------------+----+\n",
      "|vingley0@livejour...| com|\n",
      "| lhurll1@answers.com| com|\n",
      "|   mtrain2@imgur.com| com|\n",
      "|dfoss3@dagondesig...| com|\n",
      "| adunklee4@google.de|  de|\n",
      "+--------------------+----+\n",
      "only showing top 5 rows\n",
      "\n"
     ]
    }
   ],
   "source": [
    "# Write your code using the Spark Function\n",
    "df6 = df.withColumn('Domain_Name',split(df.email,'@').getItem(1))\n",
    "df6 = df6.withColumn('code',split(df6.Domain_Name,'\\\\.').getItem(1))\n",
    "df6 = df6.select(df6.email,df6.code)\n",
    "df6.show(5)"
   ]
  },
  {
   "cell_type": "markdown",
   "metadata": {
    "application/vnd.databricks.v1+cell": {
     "cellMetadata": {},
     "inputWidgets": {},
     "nuid": "6db5e71a-f747-43fc-8834-1c348a80a44b",
     "showTitle": false,
     "title": ""
    }
   },
   "source": [
    "d\n",
    "<b> What is the position of the first occurrence of a dot ('.') character in each employee's email address, which can be used to standardize email addresses in a database?"
   ]
  },
  {
   "cell_type": "code",
   "execution_count": 10,
   "metadata": {
    "application/vnd.databricks.v1+cell": {
     "cellMetadata": {},
     "inputWidgets": {},
     "nuid": "0f13f23e-65f5-443a-86cf-b28f16fa7389",
     "showTitle": false,
     "title": ""
    }
   },
   "outputs": [
    {
     "name": "stdout",
     "output_type": "stream",
     "text": [
      "+-----------------+----------------+\n",
      "|            email|before_dot_count|\n",
      "+-----------------+----------------+\n",
      "|    fsidey5u@t.co|              10|\n",
      "|   mfiggfo@a8.net|              10|\n",
      "|   mguegd@hhs.gov|              10|\n",
      "|    dgoederf@g.co|              10|\n",
      "|qogandu@goo.ne.jp|              11|\n",
      "+-----------------+----------------+\n",
      "only showing top 5 rows\n",
      "\n"
     ]
    }
   ],
   "source": [
    "# Write your code using the Spark Function\n",
    "df7 = df.filter(df.email.isNotNull())\n",
    "df7 = df7.select(df7.email)\n",
    "df7 = df7.withColumn('before_dot_count',length(split(df7.email,'\\\\.').getItem(0)))\n",
    "df7.sort(df7.before_dot_count).show(5)"
   ]
  },
  {
   "cell_type": "markdown",
   "metadata": {
    "application/vnd.databricks.v1+cell": {
     "cellMetadata": {},
     "inputWidgets": {},
     "nuid": "85b1a79d-65b9-4a95-831a-57eea6c251f9",
     "showTitle": false,
     "title": ""
    }
   },
   "source": [
    "d\n",
    "<b> What is the full name and email address of each employee, concatenated with a space separator, for use in email communication?"
   ]
  },
  {
   "cell_type": "code",
   "execution_count": 11,
   "metadata": {
    "application/vnd.databricks.v1+cell": {
     "cellMetadata": {},
     "inputWidgets": {},
     "nuid": "4708e08e-0200-4e40-a9ed-87f0a3e72bc6",
     "showTitle": false,
     "title": ""
    }
   },
   "outputs": [
    {
     "name": "stdout",
     "output_type": "stream",
     "text": [
      "+----------+---------+--------------------+--------------------+\n",
      "|first_name|last_name|               email|     full_name_email|\n",
      "+----------+---------+--------------------+--------------------+\n",
      "|    Valene|   Ingley|vingley0@livejour...|Valene Ingley vin...|\n",
      "|  Lynnelle|    Hurll| lhurll1@answers.com|Lynnelle Hurll lh...|\n",
      "|   Miranda|    Train|   mtrain2@imgur.com|Miranda Train mtr...|\n",
      "|    Dulsea|     Foss|dfoss3@dagondesig...|Dulsea Foss dfoss...|\n",
      "|    Anatol|  Dunklee| adunklee4@google.de|Anatol Dunklee ad...|\n",
      "+----------+---------+--------------------+--------------------+\n",
      "only showing top 5 rows\n",
      "\n"
     ]
    }
   ],
   "source": [
    "# Write your code using the Spark Function\n",
    "df8 = df.select(df.first_name,df.last_name,df.email)\n",
    "df8 = df8.withColumn('full_name_email',concat(df8.first_name,lit(\" \"),df8.last_name,lit(' '),df8.email))\n",
    "df8.show(5)"
   ]
  },
  {
   "cell_type": "markdown",
   "metadata": {
    "application/vnd.databricks.v1+cell": {
     "cellMetadata": {},
     "inputWidgets": {},
     "nuid": "34faa5af-6a42-4638-860e-0a8248284e63",
     "showTitle": false,
     "title": ""
    }
   },
   "source": [
    "d\n",
    "<b> What is the first letter of each employee's first name in uppercase, followed by the rest of the name in lowercase, to ensure consistency and proper capitalization?"
   ]
  },
  {
   "cell_type": "code",
   "execution_count": 12,
   "metadata": {
    "application/vnd.databricks.v1+cell": {
     "cellMetadata": {},
     "inputWidgets": {},
     "nuid": "bfb43dc0-bb19-4109-bbb4-090859ce1363",
     "showTitle": false,
     "title": ""
    }
   },
   "outputs": [
    {
     "name": "stdout",
     "output_type": "stream",
     "text": [
      "+----------+--------+\n",
      "|first_name|cap_name|\n",
      "+----------+--------+\n",
      "|    Valene|  Valene|\n",
      "|  Lynnelle|Lynnelle|\n",
      "|   Miranda| Miranda|\n",
      "|    Dulsea|  Dulsea|\n",
      "|    Anatol|  Anatol|\n",
      "+----------+--------+\n",
      "only showing top 5 rows\n",
      "\n"
     ]
    }
   ],
   "source": [
    "# Write your code using the Spark Function\n",
    "df9 = df.select(df.first_name)\n",
    "df9 = df9.withColumn('cap_name',initcap(df9.first_name))\n",
    "df9.show(5)"
   ]
  }
 ],
 "metadata": {
  "application/vnd.databricks.v1+notebook": {
   "dashboards": [],
   "language": "python",
   "notebookMetadata": {
    "pythonIndentUnit": 2
   },
   "notebookName": "Databircks-Assignemnt4 Advance String Manupulation Transformation)",
   "notebookOrigID": 534745604295407,
   "widgets": {}
  },
  "kernelspec": {
   "display_name": "Python 3 (ipykernel)",
   "language": "python",
   "name": "python3"
  },
  "language_info": {
   "codemirror_mode": {
    "name": "ipython",
    "version": 3
   },
   "file_extension": ".py",
   "mimetype": "text/x-python",
   "name": "python",
   "nbconvert_exporter": "python",
   "pygments_lexer": "ipython3",
   "version": "3.9.15"
  }
 },
 "nbformat": 4,
 "nbformat_minor": 1
}
