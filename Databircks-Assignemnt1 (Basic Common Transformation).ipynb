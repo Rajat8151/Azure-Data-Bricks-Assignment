{
 "cells": [
  {
   "cell_type": "markdown",
   "metadata": {
    "application/vnd.databricks.v1+cell": {
     "cellMetadata": {},
     "inputWidgets": {},
     "nuid": "6987a7a6-3052-4bf1-870d-06369bbbc824",
     "showTitle": false,
     "title": ""
    }
   },
   "source": [
    "<span style=\"color:orange\">\n",
    " <h2> Databircks-Assignemnt 1 (Basic Common Transformation)\n",
    "</span>\n",
    "  <h5>\n",
    "    <span style=\"color:red\">\n",
    "<b>Author: Deepak Goyal <br>\n",
    "   <a> adeus.azurelib.com </a><br>\n",
    "   Email at: admin@azurelib.com\n",
    "</span>"
   ]
  },
  {
   "cell_type": "code",
   "execution_count": 1,
   "metadata": {},
   "outputs": [],
   "source": [
    "# Importing all the required data\n",
    "import pyspark\n",
    "from pyspark.sql import SparkSession\n",
    "spark=SparkSession.builder.appName('Practise').getOrCreate()\n",
    "\n",
    "from pyspark.sql.functions import *\n",
    " "
   ]
  },
  {
   "cell_type": "code",
   "execution_count": 2,
   "metadata": {},
   "outputs": [],
   "source": [
    "# Read the dataset\n",
    "df= spark.read.csv(\"EmployeeData-Assinemnt 1.csv\",header=True,inferSchema=True)"
   ]
  },
  {
   "cell_type": "code",
   "execution_count": 3,
   "metadata": {},
   "outputs": [
    {
     "name": "stdout",
     "output_type": "stream",
     "text": [
      "+---+----------+---------+--------------------+------+------+-------------------+--------+\n",
      "| id|first_name|last_name|               email|gender|salary|       creationDate|   bonus|\n",
      "+---+----------+---------+--------------------+------+------+-------------------+--------+\n",
      "|  1|    Valene|   Ingley|vingley0@livejour...|Female| 44104|1957-09-09 16:44:40|    NULL|\n",
      "|  2|  Lynnelle|    Hurll| lhurll1@answers.com|Female|112411|1907-05-10 17:38:56|    NULL|\n",
      "|  3|   Miranda|    Train|   mtrain2@imgur.com|Female| 91073|1941-01-24 16:05:23|12875.54|\n",
      "|  4|    Dulsea|     Foss|dfoss3@dagondesig...|Female|193291|1942-05-09 20:59:39|    NULL|\n",
      "|  5|    Anatol|  Dunklee| adunklee4@google.de|  Male| 22175|1950-07-26 16:28:00| 1432.12|\n",
      "+---+----------+---------+--------------------+------+------+-------------------+--------+\n",
      "only showing top 5 rows\n",
      "\n"
     ]
    }
   ],
   "source": [
    "df.show(5)"
   ]
  },
  {
   "cell_type": "markdown",
   "metadata": {
    "application/vnd.databricks.v1+cell": {
     "cellMetadata": {},
     "inputWidgets": {},
     "nuid": "5b3ac98b-ae08-42ca-83aa-2c68621fd1c3",
     "showTitle": false,
     "title": ""
    }
   },
   "source": [
    "<b>How many employees are in the input file?"
   ]
  },
  {
   "cell_type": "code",
   "execution_count": 4,
   "metadata": {
    "application/vnd.databricks.v1+cell": {
     "cellMetadata": {},
     "inputWidgets": {},
     "nuid": "ab3fead4-1dbe-4381-8bdf-5cec62470790",
     "showTitle": false,
     "title": ""
    }
   },
   "outputs": [
    {
     "name": "stdout",
     "output_type": "stream",
     "text": [
      "No of employee in the file:  1000\n"
     ]
    }
   ],
   "source": [
    "# Write your code using the Spark Function\n",
    "employee_count = df.count()\n",
    "print(\"No of employee in the file: \", employee_count)"
   ]
  },
  {
   "cell_type": "markdown",
   "metadata": {
    "application/vnd.databricks.v1+cell": {
     "cellMetadata": {},
     "inputWidgets": {},
     "nuid": "7ceaa11f-bcb6-4659-a6bc-d4c4983acfb2",
     "showTitle": false,
     "title": ""
    }
   },
   "source": [
    "<b> What is the average salary of all the employees?"
   ]
  },
  {
   "cell_type": "code",
   "execution_count": 5,
   "metadata": {
    "application/vnd.databricks.v1+cell": {
     "cellMetadata": {},
     "inputWidgets": {},
     "nuid": "7d8dccf8-21cf-4e27-9e29-6874cef7cc5b",
     "showTitle": false,
     "title": ""
    }
   },
   "outputs": [
    {
     "name": "stdout",
     "output_type": "stream",
     "text": [
      "+------------------+\n",
      "|Average_Emp_Salary|\n",
      "+------------------+\n",
      "|         100011.38|\n",
      "+------------------+\n",
      "\n"
     ]
    }
   ],
   "source": [
    "# Write your code using the Spark Function\n",
    "avg_salary = df.select(round(avg('salary'),2).alias('Average_Emp_Salary'))\n",
    "avg_salary.show()  "
   ]
  },
  {
   "cell_type": "markdown",
   "metadata": {
    "application/vnd.databricks.v1+cell": {
     "cellMetadata": {},
     "inputWidgets": {},
     "nuid": "808bdc43-42d2-4945-9bf4-99ff444ee1fa",
     "showTitle": false,
     "title": ""
    }
   },
   "source": [
    "<b> How many male and female employees are there in the input file?"
   ]
  },
  {
   "cell_type": "code",
   "execution_count": 6,
   "metadata": {
    "application/vnd.databricks.v1+cell": {
     "cellMetadata": {},
     "inputWidgets": {},
     "nuid": "0d890aac-43dd-49fb-9ac2-999158e327c9",
     "showTitle": false,
     "title": ""
    }
   },
   "outputs": [
    {
     "name": "stdout",
     "output_type": "stream",
     "text": [
      "+------+-----+\n",
      "|gender|count|\n",
      "+------+-----+\n",
      "|Female|  501|\n",
      "|  Male|  471|\n",
      "+------+-----+\n",
      "\n"
     ]
    }
   ],
   "source": [
    "# Write your code using the Spark Function\n",
    "df1 = df.groupBy('gender').count()\n",
    "df1.filter((df.gender=='Male') | (df.gender=='Female')).show()"
   ]
  },
  {
   "cell_type": "markdown",
   "metadata": {
    "application/vnd.databricks.v1+cell": {
     "cellMetadata": {},
     "inputWidgets": {},
     "nuid": "a5e18b7e-62b5-4410-b160-18f25ae651a2",
     "showTitle": false,
     "title": ""
    }
   },
   "source": [
    "<b> Who is the employee with the highest salary?"
   ]
  },
  {
   "cell_type": "code",
   "execution_count": 7,
   "metadata": {
    "application/vnd.databricks.v1+cell": {
     "cellMetadata": {},
     "inputWidgets": {},
     "nuid": "947dd3b0-5b8d-4535-a115-0f459ae8f1ab",
     "showTitle": false,
     "title": ""
    }
   },
   "outputs": [
    {
     "name": "stdout",
     "output_type": "stream",
     "text": [
      "+-----------------+------+\n",
      "|    Employee_Name|salary|\n",
      "+-----------------+------+\n",
      "|Alfonso Hanbridge|199846|\n",
      "+-----------------+------+\n",
      "\n"
     ]
    }
   ],
   "source": [
    "# Write your code using the Spark Function\n",
    "df2 = df.select(concat(col('first_name'),lit(\" \") ,col('last_name')).alias('Employee_Name'),col('salary'))\n",
    "\n",
    "df3= df2.sort(df2.salary.desc()).limit(1)\n",
    "df3.show()"
   ]
  },
  {
   "cell_type": "markdown",
   "metadata": {
    "application/vnd.databricks.v1+cell": {
     "cellMetadata": {},
     "inputWidgets": {},
     "nuid": "a481d489-9076-491d-9413-afcb2f9bbb1a",
     "showTitle": false,
     "title": ""
    }
   },
   "source": [
    "<b> What is the total bonus amount paid to all the employees?"
   ]
  },
  {
   "cell_type": "code",
   "execution_count": 8,
   "metadata": {
    "application/vnd.databricks.v1+cell": {
     "cellMetadata": {},
     "inputWidgets": {},
     "nuid": "546e94d4-e4f9-4713-bf37-79b5c9be164c",
     "showTitle": false,
     "title": ""
    }
   },
   "outputs": [
    {
     "name": "stdout",
     "output_type": "stream",
     "text": [
      "+------------+\n",
      "| Total_Bonus|\n",
      "+------------+\n",
      "|4.25048123E7|\n",
      "+------------+\n",
      "\n"
     ]
    }
   ],
   "source": [
    "# Write your code using the Spark Function\n",
    "df4 = df.select(round(sum(col('bonus')),2).alias('Total_Bonus')).show()"
   ]
  },
  {
   "cell_type": "markdown",
   "metadata": {
    "application/vnd.databricks.v1+cell": {
     "cellMetadata": {},
     "inputWidgets": {},
     "nuid": "4a0f2ec1-08df-4ebf-937d-f9917e196791",
     "showTitle": false,
     "title": ""
    }
   },
   "source": [
    "d\n",
    "<b> How many employees were hired in the year 2020?"
   ]
  },
  {
   "cell_type": "code",
   "execution_count": 9,
   "metadata": {
    "application/vnd.databricks.v1+cell": {
     "cellMetadata": {},
     "inputWidgets": {},
     "nuid": "65dbcf66-0cea-4387-aa8b-60a88e540f8e",
     "showTitle": false,
     "title": ""
    }
   },
   "outputs": [
    {
     "name": "stdout",
     "output_type": "stream",
     "text": [
      "No of employees hired in the year 2020: 7\n"
     ]
    }
   ],
   "source": [
    "# Write your code using the Spark Function\n",
    "x = df.filter(col('creationDate').between('2020-01-01','2020-12-31')).count()\n",
    "print('No of employees hired in the year 2020:',x)"
   ]
  },
  {
   "cell_type": "markdown",
   "metadata": {
    "application/vnd.databricks.v1+cell": {
     "cellMetadata": {},
     "inputWidgets": {},
     "nuid": "1119178d-1eb5-4308-afa1-4024d6c9e369",
     "showTitle": false,
     "title": ""
    }
   },
   "source": [
    "d\n",
    "<b> Who are the top 5 employees with the highest salaries?"
   ]
  },
  {
   "cell_type": "code",
   "execution_count": 10,
   "metadata": {
    "application/vnd.databricks.v1+cell": {
     "cellMetadata": {},
     "inputWidgets": {},
     "nuid": "63bddabe-f12c-4579-9f2d-e0cfe8e79022",
     "showTitle": false,
     "title": ""
    }
   },
   "outputs": [
    {
     "name": "stdout",
     "output_type": "stream",
     "text": [
      "+-----------------+------+\n",
      "|    Employee_Name|salary|\n",
      "+-----------------+------+\n",
      "|Alfonso Hanbridge|199846|\n",
      "| Dermot Letchford|199484|\n",
      "| Jennee Ballingal|198873|\n",
      "|  Griswold Kocher|198688|\n",
      "|  Baryram Whitham|198672|\n",
      "+-----------------+------+\n",
      "\n"
     ]
    }
   ],
   "source": [
    "# Write your code using the Spark Function\n",
    "df5 = df2.sort(col('salary').desc()).limit(5)\n",
    "df5.show()"
   ]
  },
  {
   "cell_type": "markdown",
   "metadata": {
    "application/vnd.databricks.v1+cell": {
     "cellMetadata": {},
     "inputWidgets": {},
     "nuid": "a86448f9-436d-42c7-b889-52015d495ed9",
     "showTitle": false,
     "title": ""
    }
   },
   "source": [
    "d\n",
    "<b> What is the total salary paid to all male employees?"
   ]
  },
  {
   "cell_type": "code",
   "execution_count": null,
   "metadata": {},
   "outputs": [],
   "source": []
  },
  {
   "cell_type": "code",
   "execution_count": 11,
   "metadata": {
    "application/vnd.databricks.v1+cell": {
     "cellMetadata": {},
     "inputWidgets": {},
     "nuid": "dc23260b-46d1-4f02-8c4a-a8a8c85e926b",
     "showTitle": false,
     "title": ""
    }
   },
   "outputs": [
    {
     "name": "stdout",
     "output_type": "stream",
     "text": [
      "+------+------------+\n",
      "|gender|Total_salary|\n",
      "+------+------------+\n",
      "|  Male|    44253777|\n",
      "+------+------------+\n",
      "\n"
     ]
    }
   ],
   "source": [
    "# Write your code using the Spark Function\n",
    "df6 = df.groupBy(df.gender).agg(sum(df.salary).alias('Total_salary')).filter(df.gender=='Male')\n",
    "df6.show()"
   ]
  },
  {
   "cell_type": "markdown",
   "metadata": {
    "application/vnd.databricks.v1+cell": {
     "cellMetadata": {},
     "inputWidgets": {},
     "nuid": "f884bb3b-36a4-4ef9-9a89-634eff8ee781",
     "showTitle": false,
     "title": ""
    }
   },
   "source": [
    "d\n",
    "<b> Who is the employee with the highest bonus amount?"
   ]
  },
  {
   "cell_type": "code",
   "execution_count": 12,
   "metadata": {
    "application/vnd.databricks.v1+cell": {
     "cellMetadata": {},
     "inputWidgets": {},
     "nuid": "297aa8ea-7ffa-4db0-90b3-ad73ecb512bb",
     "showTitle": false,
     "title": ""
    }
   },
   "outputs": [
    {
     "name": "stdout",
     "output_type": "stream",
     "text": [
      "+---------------+--------+\n",
      "|      Full_Name|   Bonus|\n",
      "+---------------+--------+\n",
      "|Franni Chessell|99993.16|\n",
      "+---------------+--------+\n",
      "\n"
     ]
    }
   ],
   "source": [
    "# Write your code using the Spark Function# Write your code using the Spark Function\n",
    "df7 = df.select(concat(df.first_name,lit(' '),df.last_name).alias('Full_Name'),df.bonus.alias('Bonus'))\n",
    "df7.sort(col('bonus').desc()).limit(1).show()"
   ]
  },
  {
   "cell_type": "markdown",
   "metadata": {
    "application/vnd.databricks.v1+cell": {
     "cellMetadata": {},
     "inputWidgets": {},
     "nuid": "3c22077b-bf59-4c3d-bc9e-fca18a0873c2",
     "showTitle": false,
     "title": ""
    }
   },
   "source": [
    "d\n",
    "<b> What is the earliest creation date of any employee in the input file?"
   ]
  },
  {
   "cell_type": "code",
   "execution_count": 13,
   "metadata": {
    "application/vnd.databricks.v1+cell": {
     "cellMetadata": {},
     "inputWidgets": {},
     "nuid": "8de25cdb-8bee-4652-bebb-73a9549771ab",
     "showTitle": false,
     "title": ""
    }
   },
   "outputs": [
    {
     "name": "stdout",
     "output_type": "stream",
     "text": [
      "+---+----------+---------+--------------------+------+------+-------------------+-------+\n",
      "| id|first_name|last_name|               email|gender|salary|       creationDate|  bonus|\n",
      "+---+----------+---------+--------------------+------+------+-------------------+-------+\n",
      "|697|    Norina|  Gotobed|ngotobedjc@illino...|Female|106852|1900-07-08 06:23:29|5268.28|\n",
      "+---+----------+---------+--------------------+------+------+-------------------+-------+\n",
      "\n"
     ]
    }
   ],
   "source": [
    "# Write your code using the Spark Function\n",
    "z = df.filter(df.creationDate.isNotNull())\n",
    "z.orderBy(z.creationDate.asc()).limit(1).show()"
   ]
  },
  {
   "cell_type": "markdown",
   "metadata": {
    "application/vnd.databricks.v1+cell": {
     "cellMetadata": {},
     "inputWidgets": {},
     "nuid": "7a6d437e-7233-44c7-93be-c3f86dfcd55c",
     "showTitle": false,
     "title": ""
    }
   },
   "source": [
    "d\n",
    "<b> How many employees have a salary greater than 100,000?"
   ]
  },
  {
   "cell_type": "code",
   "execution_count": 14,
   "metadata": {
    "application/vnd.databricks.v1+cell": {
     "cellMetadata": {},
     "inputWidgets": {},
     "nuid": "1befcd43-2d94-4a98-a9d6-660c8f301948",
     "showTitle": false,
     "title": ""
    }
   },
   "outputs": [
    {
     "name": "stdout",
     "output_type": "stream",
     "text": [
      "No of employees have a salary greater than 100,000: 480\n"
     ]
    }
   ],
   "source": [
    "# Write your code using the Spark Function\n",
    "x = df.filter(df.salary>100000).count()\n",
    "print('No of employees have a salary greater than 100,000:',x)"
   ]
  },
  {
   "cell_type": "markdown",
   "metadata": {
    "application/vnd.databricks.v1+cell": {
     "cellMetadata": {},
     "inputWidgets": {},
     "nuid": "315bf294-cbea-4284-be44-57d5132069f7",
     "showTitle": false,
     "title": ""
    }
   },
   "source": [
    "d\n",
    "<b> Who is the female employee with the highest salary?"
   ]
  },
  {
   "cell_type": "code",
   "execution_count": 15,
   "metadata": {
    "application/vnd.databricks.v1+cell": {
     "cellMetadata": {},
     "inputWidgets": {},
     "nuid": "88e1a535-bf47-4ae0-8306-4083a68a2b85",
     "showTitle": false,
     "title": ""
    }
   },
   "outputs": [
    {
     "name": "stdout",
     "output_type": "stream",
     "text": [
      "+----------------+------+------+\n",
      "|       Full_Name|Gender|Salary|\n",
      "+----------------+------+------+\n",
      "|Jennee Ballingal|Female|198873|\n",
      "+----------------+------+------+\n",
      "\n"
     ]
    }
   ],
   "source": [
    "# Write your code using the Spark Function\n",
    "df9 = df.select(concat(df.first_name,lit(' '),df.last_name).alias('Full_Name'),df.gender.alias('Gender'),df.salary.alias('Salary'))\n",
    "df9 = df9.filter(df.gender=='Female')\n",
    "df9.sort(df9.Salary.desc()).limit(1).show()"
   ]
  },
  {
   "cell_type": "markdown",
   "metadata": {
    "application/vnd.databricks.v1+cell": {
     "cellMetadata": {},
     "inputWidgets": {},
     "nuid": "9b87cf7d-fde1-44f0-98c5-e84e320677c7",
     "showTitle": false,
     "title": ""
    }
   },
   "source": [
    "d\n",
    "<b> What is the total bonus amount paid to female employees?"
   ]
  },
  {
   "cell_type": "code",
   "execution_count": 16,
   "metadata": {
    "application/vnd.databricks.v1+cell": {
     "cellMetadata": {},
     "inputWidgets": {},
     "nuid": "0e790a6b-6394-4ba0-90e2-37141ae90d1f",
     "showTitle": false,
     "title": ""
    }
   },
   "outputs": [
    {
     "name": "stdout",
     "output_type": "stream",
     "text": [
      "+------+-------------+\n",
      "|Gender|   sum(Bonus)|\n",
      "+------+-------------+\n",
      "|Female|2.132315359E7|\n",
      "+------+-------------+\n",
      "\n"
     ]
    }
   ],
   "source": [
    "# Write your code using the Spark Function\n",
    "df10 = df.filter((col('Gender') == 'Female') & (col('Bonus').isNotNull()))\n",
    "df10.groupBy(col('Gender')).agg(sum(col('Bonus'))).show()"
   ]
  },
  {
   "cell_type": "markdown",
   "metadata": {
    "application/vnd.databricks.v1+cell": {
     "cellMetadata": {},
     "inputWidgets": {},
     "nuid": "48c93dbe-67e5-460e-bab0-804b533ff977",
     "showTitle": false,
     "title": ""
    }
   },
   "source": [
    "d\n",
    "<b> How many employees have a salary between 50,000 and 75,000?"
   ]
  },
  {
   "cell_type": "code",
   "execution_count": 17,
   "metadata": {
    "application/vnd.databricks.v1+cell": {
     "cellMetadata": {},
     "inputWidgets": {},
     "nuid": "847bc2e8-bb32-48aa-8fa6-2ab8f55cea80",
     "showTitle": false,
     "title": ""
    }
   },
   "outputs": [
    {
     "name": "stdout",
     "output_type": "stream",
     "text": [
      "No of employees having a salary between 50,000 and 75,000: 117\n"
     ]
    }
   ],
   "source": [
    "# Write your code using the Spark Function\n",
    "df11 = df.filter(df.salary.between(50000,75000)).count()\n",
    "print('No of employees having a salary between 50,000 and 75,000:',df11)"
   ]
  },
  {
   "cell_type": "markdown",
   "metadata": {
    "application/vnd.databricks.v1+cell": {
     "cellMetadata": {},
     "inputWidgets": {},
     "nuid": "d5e9e2a9-4133-407e-bc52-c332538b3a1b",
     "showTitle": false,
     "title": ""
    }
   },
   "source": [
    "d\n",
    "<b> Who are the top 10 employees with the highest bonuses?"
   ]
  },
  {
   "cell_type": "code",
   "execution_count": 18,
   "metadata": {
    "application/vnd.databricks.v1+cell": {
     "cellMetadata": {},
     "inputWidgets": {},
     "nuid": "f67bd07c-76c9-44d1-9a64-1d7db068fc7e",
     "showTitle": false,
     "title": ""
    }
   },
   "outputs": [
    {
     "name": "stdout",
     "output_type": "stream",
     "text": [
      "+---+----------+----------+--------------------+------+------+-------------------+--------+\n",
      "| id|first_name| last_name|               email|gender|salary|       creationDate|   bonus|\n",
      "+---+----------+----------+--------------------+------+------+-------------------+--------+\n",
      "|915|    Franni|  Chessell|fchessellpe@meetu...|Female|101905|1973-09-18 10:14:15|99993.16|\n",
      "|830|     Asher|     Dupoy|adupoyn1@kickstar...|  Male|  NULL|1999-07-07 13:34:32|99985.66|\n",
      "|199|    Lovell|    Ingall|lingall5i@so-net....|  Male|125216|1974-10-01 23:30:52|99932.43|\n",
      "|537|  Sullivan|    Gyenes|sgyenesew@creativ...|  Male| 63180|1952-03-05 12:17:00| 99845.6|\n",
      "|653|    Jessie|     Grgic| jgrgici4@census.gov|Female| 20861|2013-08-02 12:38:32|99650.89|\n",
      "|896|     Nicol|    Bruton|nbrutonov@4shared...|  Male| 85665|1985-12-19 03:47:06|99581.27|\n",
      "|819|     Nonah|  Tompkiss|ntompkissmq@vista...|Female| 70157|1992-12-14 17:47:12|99046.27|\n",
      "|382|      Andy|     Morch|amorchal@reuters.com|Female| 41851|1911-01-12 00:10:06|99033.16|\n",
      "|160|      Swen|Hinrichsen|shinrichsen4f@bli...|  Male| 88408|1902-07-19 14:18:12|98721.92|\n",
      "|635|   Dorotea|     Kynan|dkynanhm@plala.or.jp|Female|156337|1987-12-12 09:26:14|98639.27|\n",
      "+---+----------+----------+--------------------+------+------+-------------------+--------+\n",
      "\n"
     ]
    }
   ],
   "source": [
    "# Write your code using the Spark Function\n",
    "df12 = df.sort(df.bonus.desc())\n",
    "df12.limit(10).show()"
   ]
  },
  {
   "cell_type": "markdown",
   "metadata": {
    "application/vnd.databricks.v1+cell": {
     "cellMetadata": {},
     "inputWidgets": {},
     "nuid": "625e6480-0d48-428e-8bc5-23c64431af3d",
     "showTitle": false,
     "title": ""
    }
   },
   "source": [
    "d\n",
    "<b> What is the latest creation date of any employee in the input file?"
   ]
  },
  {
   "cell_type": "code",
   "execution_count": 19,
   "metadata": {
    "application/vnd.databricks.v1+cell": {
     "cellMetadata": {},
     "inputWidgets": {},
     "nuid": "3296515c-2b05-4f9d-96c9-c9ea595044d4",
     "showTitle": false,
     "title": ""
    }
   },
   "outputs": [
    {
     "name": "stdout",
     "output_type": "stream",
     "text": [
      "+---+----------+---------+-------------------+------+------+-------------------+--------+\n",
      "| id|first_name|last_name|              email|gender|salary|       creationDate|   bonus|\n",
      "+---+----------+---------+-------------------+------+------+-------------------+--------+\n",
      "|114|   Hadrian|     Emma|hemma35@booking.com|  Male| 62794|2023-03-24 14:50:38|75485.86|\n",
      "+---+----------+---------+-------------------+------+------+-------------------+--------+\n",
      "\n"
     ]
    }
   ],
   "source": [
    "# Write your code using the Spark Function\n",
    "z = df.filter(df.creationDate.isNotNull())\n",
    "z.orderBy(z.creationDate.desc()).limit(1).show()"
   ]
  },
  {
   "cell_type": "markdown",
   "metadata": {
    "application/vnd.databricks.v1+cell": {
     "cellMetadata": {},
     "inputWidgets": {},
     "nuid": "8b3c7eb8-65ec-47d1-94e9-80d9e4bc5f1c",
     "showTitle": false,
     "title": ""
    }
   },
   "source": [
    "d\n",
    "<b> How many employees have a salary less than 50,000?"
   ]
  },
  {
   "cell_type": "code",
   "execution_count": 20,
   "metadata": {
    "application/vnd.databricks.v1+cell": {
     "cellMetadata": {},
     "inputWidgets": {},
     "nuid": "f82b5d00-7e44-4076-8080-826d0c11ffb9",
     "showTitle": false,
     "title": ""
    }
   },
   "outputs": [
    {
     "name": "stdout",
     "output_type": "stream",
     "text": [
      "No of employees have a salary less than 50,000: 234\n"
     ]
    }
   ],
   "source": [
    "# Write your code using the Spark Function\n",
    "print(\"No of employees have a salary less than 50,000:\",df.filter(df.salary<50000).count())"
   ]
  },
  {
   "cell_type": "markdown",
   "metadata": {
    "application/vnd.databricks.v1+cell": {
     "cellMetadata": {},
     "inputWidgets": {},
     "nuid": "31cc824e-183d-4cf1-ad6b-71126c3fa92e",
     "showTitle": false,
     "title": ""
    }
   },
   "source": [
    "d\n",
    "<b> Who are the top 3 employees with the lowest salaries?"
   ]
  },
  {
   "cell_type": "code",
   "execution_count": 21,
   "metadata": {
    "application/vnd.databricks.v1+cell": {
     "cellMetadata": {},
     "inputWidgets": {},
     "nuid": "c36e0b45-f426-4870-bb83-8200e4491f43",
     "showTitle": false,
     "title": ""
    }
   },
   "outputs": [
    {
     "name": "stdout",
     "output_type": "stream",
     "text": [
      "+---+----------+----------+--------------------+------+------+-------------------+--------+\n",
      "| id|first_name| last_name|               email|gender|salary|       creationDate|   bonus|\n",
      "+---+----------+----------+--------------------+------+------+-------------------+--------+\n",
      "|809|  Hercules|Pollington|hpollingtonmg@chi...|  Male|   109|1936-08-10 16:43:14| 57493.2|\n",
      "|381|     Olwen| O'Scanlon| ooscanlonak@usa.gov|Female|   184|2017-10-11 06:21:17|22415.01|\n",
      "|542| Heriberto|      NULL| hsurmeyersf1@un.org|  Male|   479|               NULL|51871.41|\n",
      "+---+----------+----------+--------------------+------+------+-------------------+--------+\n",
      "\n"
     ]
    }
   ],
   "source": [
    "# Write your code using the Spark Function\n",
    "df12 = df.filter(df.salary.isNotNull())\n",
    "df12.orderBy(df12.salary.asc()).limit(3).show()"
   ]
  },
  {
   "cell_type": "markdown",
   "metadata": {
    "application/vnd.databricks.v1+cell": {
     "cellMetadata": {},
     "inputWidgets": {},
     "nuid": "d2a0ab65-4e44-4edd-8781-3c2d9723c9fd",
     "showTitle": false,
     "title": ""
    }
   },
   "source": [
    "d\n",
    "<b> What is the average bonus amount paid to all employees?"
   ]
  },
  {
   "cell_type": "code",
   "execution_count": 22,
   "metadata": {
    "application/vnd.databricks.v1+cell": {
     "cellMetadata": {},
     "inputWidgets": {},
     "nuid": "d697b9a0-d6e2-425b-a66b-7ee96e56f7f2",
     "showTitle": false,
     "title": ""
    }
   },
   "outputs": [
    {
     "name": "stdout",
     "output_type": "stream",
     "text": [
      "The average bonus amount paid to all employees: 100726.68614993646\n"
     ]
    }
   ],
   "source": [
    "# Write your code using the Spark Function\n",
    "df13 = df.filter(df.bonus.isNotNull())\n",
    "x = df13.select(avg('salary')).collect()[0][0]\n",
    "print('The average bonus amount paid to all employees:',x)"
   ]
  },
  {
   "cell_type": "markdown",
   "metadata": {
    "application/vnd.databricks.v1+cell": {
     "cellMetadata": {},
     "inputWidgets": {},
     "nuid": "ec198c70-feec-41b0-8c9d-510bf76d87ef",
     "showTitle": false,
     "title": ""
    }
   },
   "source": [
    "d\n",
    "<b> How many employees have a bonus greater than their salary?"
   ]
  },
  {
   "cell_type": "code",
   "execution_count": 23,
   "metadata": {
    "application/vnd.databricks.v1+cell": {
     "cellMetadata": {},
     "inputWidgets": {},
     "nuid": "b484f9ac-b724-4f7a-975f-cebe0fd73201",
     "showTitle": false,
     "title": ""
    }
   },
   "outputs": [
    {
     "name": "stdout",
     "output_type": "stream",
     "text": [
      "No of employees have a bonus greater than their salary: 194\n"
     ]
    }
   ],
   "source": [
    "# Write your code using the Spark Function\n",
    "z = df.filter(df.salary<df.bonus).count()\n",
    "print('No of employees have a bonus greater than their salary:',z)"
   ]
  }
 ],
 "metadata": {
  "application/vnd.databricks.v1+notebook": {
   "dashboards": [],
   "language": "python",
   "notebookMetadata": {
    "pythonIndentUnit": 2
   },
   "notebookName": "Databircks-Assignemnt1 (Basic Common Transformation)",
   "notebookOrigID": 534745604295322,
   "widgets": {}
  },
  "kernelspec": {
   "display_name": "Python 3 (ipykernel)",
   "language": "python",
   "name": "python3"
  },
  "language_info": {
   "codemirror_mode": {
    "name": "ipython",
    "version": 3
   },
   "file_extension": ".py",
   "mimetype": "text/x-python",
   "name": "python",
   "nbconvert_exporter": "python",
   "pygments_lexer": "ipython3",
   "version": "3.9.15"
  }
 },
 "nbformat": 4,
 "nbformat_minor": 1
}
