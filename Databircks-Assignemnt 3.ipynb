{
 "cells": [
  {
   "cell_type": "markdown",
   "metadata": {
    "application/vnd.databricks.v1+cell": {
     "cellMetadata": {},
     "inputWidgets": {},
     "nuid": "db75cd47-6817-4c6d-9dd4-ebd8f0ef5557",
     "showTitle": false,
     "title": ""
    }
   },
   "source": [
    "<span style=\"color:orange\">\n",
    " <h2> Databircks-Assignemnt 3 (Basic String Manupulation Transformation)\n",
    "</span>\n",
    "  <h5>\n",
    "    <span style=\"color:red\">\n",
    "<b>Author: Deepak Goyal <br>\n",
    "   <a> adeus.azurelib.com </a><br>\n",
    "   Email at: admin@azurelib.com\n",
    "</span>"
   ]
  },
  {
   "cell_type": "code",
   "execution_count": 1,
   "metadata": {},
   "outputs": [],
   "source": [
    "# Importing all the required data\n",
    "import pyspark\n",
    "from pyspark.sql import SparkSession\n",
    "spark=SparkSession.builder.appName('Practise').getOrCreate()\n",
    "\n",
    "from pyspark.sql.functions import *"
   ]
  },
  {
   "cell_type": "code",
   "execution_count": 2,
   "metadata": {},
   "outputs": [],
   "source": [
    "# Read the dataset\n",
    "df= spark.read.csv(\"EmployeeData-3.csv\",header=True,inferSchema=True)"
   ]
  },
  {
   "cell_type": "code",
   "execution_count": 3,
   "metadata": {},
   "outputs": [
    {
     "name": "stdout",
     "output_type": "stream",
     "text": [
      "root\n",
      " |-- id: integer (nullable = true)\n",
      " |-- first_name: string (nullable = true)\n",
      " |-- last_name: string (nullable = true)\n",
      " |-- email: string (nullable = true)\n",
      " |-- gender: string (nullable = true)\n",
      " |-- salary: integer (nullable = true)\n",
      " |-- creationDate: timestamp (nullable = true)\n",
      " |-- bonus: double (nullable = true)\n",
      "\n"
     ]
    }
   ],
   "source": [
    "df.printSchema()"
   ]
  },
  {
   "cell_type": "code",
   "execution_count": 4,
   "metadata": {},
   "outputs": [
    {
     "name": "stdout",
     "output_type": "stream",
     "text": [
      "+---+----------+---------+--------------------+------+------+-------------------+--------+\n",
      "| id|first_name|last_name|               email|gender|salary|       creationDate|   bonus|\n",
      "+---+----------+---------+--------------------+------+------+-------------------+--------+\n",
      "|  1|    Valene|   Ingley|vingley0@livejour...|Female| 44104|1957-09-09 16:44:40|    NULL|\n",
      "|  2|  Lynnelle|    Hurll| lhurll1@answers.com|Female|112411|1907-05-10 17:38:56|    NULL|\n",
      "|  3|   Miranda|    Train|   mtrain2@imgur.com|Female| 91073|1941-01-24 16:05:23|12875.54|\n",
      "|  4|    Dulsea|     Foss|dfoss3@dagondesig...|Female|193291|1942-05-09 20:59:39|    NULL|\n",
      "|  5|    Anatol|  Dunklee| adunklee4@google.de|  Male| 22175|1950-07-26 16:28:00| 1432.12|\n",
      "+---+----------+---------+--------------------+------+------+-------------------+--------+\n",
      "only showing top 5 rows\n",
      "\n"
     ]
    }
   ],
   "source": [
    "df.show(5)"
   ]
  },
  {
   "cell_type": "markdown",
   "metadata": {
    "application/vnd.databricks.v1+cell": {
     "cellMetadata": {},
     "inputWidgets": {},
     "nuid": "25e9ad6b-bde3-4895-9c87-ac282e88a982",
     "showTitle": false,
     "title": ""
    }
   },
   "source": [
    "<b> How many employees have a first name that starts with the letter 'J'?"
   ]
  },
  {
   "cell_type": "code",
   "execution_count": 5,
   "metadata": {
    "application/vnd.databricks.v1+cell": {
     "cellMetadata": {},
     "inputWidgets": {},
     "nuid": "56f1ba90-25b6-4792-8a37-6fcc36ef1d81",
     "showTitle": false,
     "title": ""
    }
   },
   "outputs": [
    {
     "name": "stdout",
     "output_type": "stream",
     "text": [
      "No of employees that have first name that starts with the letter 'J': 43\n"
     ]
    }
   ],
   "source": [
    "# Write your code using the Spark Function\n",
    "df1 = df.select(upper(df.first_name).alias('first_name'))\n",
    "x = df1.filter(df1.first_name.like('J%')).count()\n",
    "print(\"No of employees that have first name that starts with the letter 'J':\",x)"
   ]
  },
  {
   "cell_type": "markdown",
   "metadata": {
    "application/vnd.databricks.v1+cell": {
     "cellMetadata": {},
     "inputWidgets": {},
     "nuid": "c416d4b2-c6e9-4807-b508-0329e5a694f6",
     "showTitle": false,
     "title": ""
    }
   },
   "source": [
    "d\n",
    "<b> How many employees have a last name that ends with the letter 's'?"
   ]
  },
  {
   "cell_type": "code",
   "execution_count": 6,
   "metadata": {
    "application/vnd.databricks.v1+cell": {
     "cellMetadata": {},
     "inputWidgets": {},
     "nuid": "bfae43d0-e5d3-4824-ba2e-9fd87aefe779",
     "showTitle": false,
     "title": ""
    }
   },
   "outputs": [
    {
     "name": "stdout",
     "output_type": "stream",
     "text": [
      "No of employees that have last name that ends with the letter 's': 81\n"
     ]
    }
   ],
   "source": [
    "# Write your code using the Spark Function\n",
    "df2 = df.select(lower(df.last_name).alias('lower_last_name'))\n",
    "x = df2.filter(df2.lower_last_name.like('%s')).count()\n",
    "print(\"No of employees that have last name that ends with the letter 's':\",x)"
   ]
  },
  {
   "cell_type": "markdown",
   "metadata": {
    "application/vnd.databricks.v1+cell": {
     "cellMetadata": {},
     "inputWidgets": {},
     "nuid": "646c4286-10d1-44ea-9f41-1e37e2b60067",
     "showTitle": false,
     "title": ""
    }
   },
   "source": [
    "d\n",
    "<b> What is the length of the longest first name?"
   ]
  },
  {
   "cell_type": "code",
   "execution_count": 7,
   "metadata": {},
   "outputs": [
    {
     "name": "stdout",
     "output_type": "stream",
     "text": [
      "+----------+---------+-----------------+\n",
      "|first_name|last_name|length_first_name|\n",
      "+----------+---------+-----------------+\n",
      "|    Valene|   Ingley|                6|\n",
      "|  Lynnelle|    Hurll|                8|\n",
      "|   Miranda|    Train|                7|\n",
      "+----------+---------+-----------------+\n",
      "only showing top 3 rows\n",
      "\n"
     ]
    }
   ],
   "source": [
    "df3 = df.filter(df.first_name.isNotNull())\n",
    "df3 = df3.select(df.first_name,df.last_name)\n",
    "df3 = df3.withColumn('length_first_name',length(df.first_name))\n",
    "df3.show(3)"
   ]
  },
  {
   "cell_type": "code",
   "execution_count": 8,
   "metadata": {},
   "outputs": [
    {
     "name": "stdout",
     "output_type": "stream",
     "text": [
      "Length of the longest first name: 15\n",
      "+---------------+---------+-----------------+\n",
      "|     first_name|last_name|length_first_name|\n",
      "+---------------+---------+-----------------+\n",
      "|Helen-elizabeth| McGrayle|               15|\n",
      "+---------------+---------+-----------------+\n",
      "\n"
     ]
    }
   ],
   "source": [
    "x = df3.select(max(df3.length_first_name)).collect()[0][0]\n",
    "print('Length of the longest first name:',x)\n",
    "df3.filter(df3.length_first_name==x).show()"
   ]
  },
  {
   "cell_type": "markdown",
   "metadata": {
    "application/vnd.databricks.v1+cell": {
     "cellMetadata": {},
     "inputWidgets": {},
     "nuid": "0b163ff1-2e94-4df4-a16b-35e2df20206a",
     "showTitle": false,
     "title": ""
    }
   },
   "source": [
    "d\n",
    "<b> What is the length of the shortest last name?"
   ]
  },
  {
   "cell_type": "code",
   "execution_count": 9,
   "metadata": {
    "application/vnd.databricks.v1+cell": {
     "cellMetadata": {},
     "inputWidgets": {},
     "nuid": "9146750b-cabd-436f-ba86-9aa5b252a40e",
     "showTitle": false,
     "title": ""
    }
   },
   "outputs": [
    {
     "name": "stdout",
     "output_type": "stream",
     "text": [
      "+----------+---------+-----------------+\n",
      "|first_name|last_name|length_first_name|\n",
      "+----------+---------+-----------------+\n",
      "|        Ki|  Gammill|                2|\n",
      "+----------+---------+-----------------+\n",
      "\n"
     ]
    }
   ],
   "source": [
    "# Write your code using the Spark Function\n",
    "df3.sort(df3.length_first_name.asc()).limit(1).show()"
   ]
  },
  {
   "cell_type": "markdown",
   "metadata": {
    "application/vnd.databricks.v1+cell": {
     "cellMetadata": {},
     "inputWidgets": {},
     "nuid": "c2561678-6fb8-4fde-bcfc-b1bc80056067",
     "showTitle": false,
     "title": ""
    }
   },
   "source": [
    "d\n",
    "<b> What is the email domain of the employee with the highest salary?"
   ]
  },
  {
   "cell_type": "code",
   "execution_count": 10,
   "metadata": {
    "application/vnd.databricks.v1+cell": {
     "cellMetadata": {},
     "inputWidgets": {},
     "nuid": "abb5d5cd-f2ea-492d-a4e9-0e084a10f28d",
     "showTitle": false,
     "title": ""
    }
   },
   "outputs": [
    {
     "name": "stdout",
     "output_type": "stream",
     "text": [
      "+--------------------+\n",
      "|               email|\n",
      "+--------------------+\n",
      "|ahanbridger3@webs...|\n",
      "+--------------------+\n",
      "\n"
     ]
    }
   ],
   "source": [
    "# Write your code using the Spark Function\n",
    "x = df.select(max(df.salary)).collect()[0][0]\n",
    "df4 = df.filter(df.salary==x)\n",
    "df4.select(df.email).show()"
   ]
  },
  {
   "cell_type": "markdown",
   "metadata": {
    "application/vnd.databricks.v1+cell": {
     "cellMetadata": {},
     "inputWidgets": {},
     "nuid": "0e683047-d545-4618-a65c-a5b2ec2de6bb",
     "showTitle": false,
     "title": ""
    }
   },
   "source": [
    "d\n",
    "<b> What is the first name of the employee with the email address that contains the substring 'hr'?"
   ]
  },
  {
   "cell_type": "code",
   "execution_count": 11,
   "metadata": {
    "application/vnd.databricks.v1+cell": {
     "cellMetadata": {},
     "inputWidgets": {},
     "nuid": "766eb7bc-197b-4cf8-bd0e-fe92ec8cc18f",
     "showTitle": false,
     "title": ""
    }
   },
   "outputs": [
    {
     "name": "stdout",
     "output_type": "stream",
     "text": [
      "+----------+\n",
      "|first_name|\n",
      "+----------+\n",
      "|      NULL|\n",
      "+----------+\n",
      "\n"
     ]
    }
   ],
   "source": [
    "# Write your code using the Spark Function\n",
    "df5 = df.filter(df.email.like('%hr%'))\n",
    "df5.select(df.first_name).limit(1).show()"
   ]
  },
  {
   "cell_type": "markdown",
   "metadata": {
    "application/vnd.databricks.v1+cell": {
     "cellMetadata": {},
     "inputWidgets": {},
     "nuid": "6d421b46-cb8c-42a7-b985-c27799c002c9",
     "showTitle": false,
     "title": ""
    }
   },
   "source": [
    "d\n",
    "<b> What is the last name of the employee with the email address that ends with the domain '.com'?"
   ]
  },
  {
   "cell_type": "code",
   "execution_count": 12,
   "metadata": {
    "application/vnd.databricks.v1+cell": {
     "cellMetadata": {},
     "inputWidgets": {},
     "nuid": "69c41384-df21-4b17-9f39-f2706192b8af",
     "showTitle": false,
     "title": ""
    }
   },
   "outputs": [
    {
     "name": "stdout",
     "output_type": "stream",
     "text": [
      "+---------+\n",
      "|last_name|\n",
      "+---------+\n",
      "|   Ingley|\n",
      "+---------+\n",
      "\n"
     ]
    }
   ],
   "source": [
    "# Write your code using the Spark Function\n",
    "df6 = df.filter(df.email.like('%.com'))\n",
    "df6.select(df.last_name).limit(1).show()"
   ]
  },
  {
   "cell_type": "markdown",
   "metadata": {
    "application/vnd.databricks.v1+cell": {
     "cellMetadata": {},
     "inputWidgets": {},
     "nuid": "a11d88ea-de35-4d7e-bf61-64039a67ca9b",
     "showTitle": false,
     "title": ""
    }
   },
   "source": [
    "d\n",
    "<b> How many employees have an email address that contains their last name?"
   ]
  },
  {
   "cell_type": "code",
   "execution_count": 13,
   "metadata": {
    "application/vnd.databricks.v1+cell": {
     "cellMetadata": {},
     "inputWidgets": {},
     "nuid": "039be24c-ad66-40d3-9673-2e1b1654a4b2",
     "showTitle": false,
     "title": ""
    }
   },
   "outputs": [],
   "source": [
    "# Write your code using the Spark Function\n",
    "df7 = df.select(lower(col('last_name')).alias('last_name'),lower(col('email')).alias('email'))\n",
    "df7 = df7.filter(df7.last_name.isNotNull())"
   ]
  },
  {
   "cell_type": "code",
   "execution_count": 14,
   "metadata": {},
   "outputs": [
    {
     "name": "stdout",
     "output_type": "stream",
     "text": [
      "+---------+--------------------+\n",
      "|last_name|               email|\n",
      "+---------+--------------------+\n",
      "|   ingley|vingley0@livejour...|\n",
      "|    hurll| lhurll1@answers.com|\n",
      "|    train|   mtrain2@imgur.com|\n",
      "|     foss|dfoss3@dagondesig...|\n",
      "|  dunklee| adunklee4@google.de|\n",
      "+---------+--------------------+\n",
      "only showing top 5 rows\n",
      "\n",
      "Number of employees with their last name in the email: 795\n"
     ]
    }
   ],
   "source": [
    "df7.filter(df7.email.contains(df7.last_name)).show(5)\n",
    "x = df7.filter(df7.email.contains(df7.last_name)).count()\n",
    "print(\"Number of employees with their last name in the email:\",x)"
   ]
  },
  {
   "cell_type": "markdown",
   "metadata": {
    "application/vnd.databricks.v1+cell": {
     "cellMetadata": {},
     "inputWidgets": {},
     "nuid": "bb4d84da-acf9-4569-b92a-c4f5b15af598",
     "showTitle": false,
     "title": ""
    }
   },
   "source": [
    "d\n",
    "<b> What is the email of the employee with the first name that contains a space character?"
   ]
  },
  {
   "cell_type": "code",
   "execution_count": 15,
   "metadata": {
    "application/vnd.databricks.v1+cell": {
     "cellMetadata": {},
     "inputWidgets": {},
     "nuid": "15524a1b-ff80-4bdb-aa68-a33535ff01e2",
     "showTitle": false,
     "title": ""
    }
   },
   "outputs": [
    {
     "name": "stdout",
     "output_type": "stream",
     "text": [
      "+-----------------+----------------+-----+\n",
      "|lower(first_name)|lower(last_name)|email|\n",
      "+-----------------+----------------+-----+\n",
      "|           jo ann|       hansemann| NULL|\n",
      "+-----------------+----------------+-----+\n",
      "\n"
     ]
    }
   ],
   "source": [
    "# Write your code using the Spark Function\n",
    "df8 = df.select(lower(df.first_name),lower(df.last_name),df.email)\n",
    "df8 = df8.filter((df.first_name.contains(' ')))\n",
    "df8.show()"
   ]
  },
  {
   "cell_type": "markdown",
   "metadata": {
    "application/vnd.databricks.v1+cell": {
     "cellMetadata": {},
     "inputWidgets": {},
     "nuid": "034bbac0-3f1c-4aef-ba04-3f30b2851746",
     "showTitle": false,
     "title": ""
    }
   },
   "source": [
    "d\n",
    "<b> What is the email of the employee with the last name that contains a hyphen character?"
   ]
  },
  {
   "cell_type": "code",
   "execution_count": 16,
   "metadata": {
    "application/vnd.databricks.v1+cell": {
     "cellMetadata": {},
     "inputWidgets": {},
     "nuid": "d7726458-0987-453c-b3d6-48389fd738df",
     "showTitle": false,
     "title": ""
    }
   },
   "outputs": [
    {
     "name": "stdout",
     "output_type": "stream",
     "text": [
      "+--------------------+\n",
      "|               email|\n",
      "+--------------------+\n",
      "|hmcgrayle8u@addth...|\n",
      "| abeateyim@wired.com|\n",
      "|hbaldacchinom1@cd...|\n",
      "+--------------------+\n",
      "\n"
     ]
    }
   ],
   "source": [
    "# Write your code using the Spark Function\n",
    "df8 = df.select(lower(df.first_name),lower(df.last_name),df.email)\n",
    "df8 = df8.filter((df.first_name.like('%-%') & df.email.isNotNull()))\n",
    "df8.select(df.email).show()"
   ]
  }
 ],
 "metadata": {
  "application/vnd.databricks.v1+notebook": {
   "dashboards": [],
   "language": "python",
   "notebookMetadata": {
    "pythonIndentUnit": 2
   },
   "notebookName": "Databircks-Assignemnt3 (Basic String Manupulation Transformation)",
   "notebookOrigID": 534745604295385,
   "widgets": {}
  },
  "kernelspec": {
   "display_name": "Python 3 (ipykernel)",
   "language": "python",
   "name": "python3"
  },
  "language_info": {
   "codemirror_mode": {
    "name": "ipython",
    "version": 3
   },
   "file_extension": ".py",
   "mimetype": "text/x-python",
   "name": "python",
   "nbconvert_exporter": "python",
   "pygments_lexer": "ipython3",
   "version": "3.9.15"
  }
 },
 "nbformat": 4,
 "nbformat_minor": 1
}
